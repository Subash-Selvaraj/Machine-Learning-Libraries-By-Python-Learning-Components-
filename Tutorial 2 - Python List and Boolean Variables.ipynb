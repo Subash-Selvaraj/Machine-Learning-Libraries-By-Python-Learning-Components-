{
 "cells": [
  {
   "cell_type": "markdown",
   "id": "5a88ac88",
   "metadata": {},
   "source": [
    "# Python Data Structures and Boolean"
   ]
  },
  {
   "cell_type": "markdown",
   "id": "22aff177",
   "metadata": {},
   "source": [
    " - Boolean\n",
    " - Boolean and Logic operators\n",
    " - List\n",
    " - Comparison operators\n",
    " - Dictionaries\n",
    " - Tuples\n",
    " - Sets"
   ]
  },
  {
   "cell_type": "markdown",
   "id": "5e92626c",
   "metadata": {},
   "source": [
    "# Boolean Variables"
   ]
  },
  {
   "cell_type": "markdown",
   "id": "73741560",
   "metadata": {},
   "source": [
    "Boolean Values are two constant objects True and False"
   ]
  },
  {
   "cell_type": "markdown",
   "id": "41b6412c",
   "metadata": {},
   "source": [
    "They are used to truth values (other values can also be considered false and true)"
   ]
  },
  {
   "cell_type": "code",
   "execution_count": 1,
   "id": "4aa1784d",
   "metadata": {},
   "outputs": [
    {
     "data": {
      "text/plain": [
       "bool"
      ]
     },
     "execution_count": 1,
     "metadata": {},
     "output_type": "execute_result"
    }
   ],
   "source": [
    "type(True)"
   ]
  },
  {
   "cell_type": "code",
   "execution_count": 2,
   "id": "72274f3b",
   "metadata": {},
   "outputs": [
    {
     "data": {
      "text/plain": [
       "bool"
      ]
     },
     "execution_count": 2,
     "metadata": {},
     "output_type": "execute_result"
    }
   ],
   "source": [
    "type(False)"
   ]
  },
  {
   "cell_type": "code",
   "execution_count": 3,
   "id": "80c7c492",
   "metadata": {},
   "outputs": [
    {
     "name": "stdout",
     "output_type": "stream",
     "text": [
      "Requirement already satisfied: tqdm in c:\\users\\elcot\\appdata\\local\\programs\\python\\python39\\lib\\site-packages (4.62.2)\n",
      "Requirement already satisfied: colorama in c:\\users\\elcot\\appdata\\local\\programs\\python\\python39\\lib\\site-packages (from tqdm) (0.4.4)\n"
     ]
    }
   ],
   "source": [
    "!pip3 install tqdm"
   ]
  },
  {
   "cell_type": "code",
   "execution_count": 4,
   "id": "f7b91d65",
   "metadata": {},
   "outputs": [
    {
     "name": "stdout",
     "output_type": "stream",
     "text": [
      "Requirement already satisfied: pandas in c:\\users\\elcot\\appdata\\local\\programs\\python\\python39\\lib\\site-packages (1.3.2)\n",
      "Requirement already satisfied: pytz>=2017.3 in c:\\users\\elcot\\appdata\\local\\programs\\python\\python39\\lib\\site-packages (from pandas) (2021.1)\n",
      "Requirement already satisfied: python-dateutil>=2.7.3 in c:\\users\\elcot\\appdata\\local\\programs\\python\\python39\\lib\\site-packages (from pandas) (2.8.2)\n",
      "Requirement already satisfied: numpy>=1.17.3 in c:\\users\\elcot\\appdata\\local\\programs\\python\\python39\\lib\\site-packages (from pandas) (1.21.2)\n",
      "Requirement already satisfied: six>=1.5 in c:\\users\\elcot\\appdata\\local\\programs\\python\\python39\\lib\\site-packages (from python-dateutil>=2.7.3->pandas) (1.16.0)\n"
     ]
    }
   ],
   "source": [
    "!pip3 install pandas"
   ]
  },
  {
   "cell_type": "code",
   "execution_count": 5,
   "id": "bed7e6ac",
   "metadata": {},
   "outputs": [
    {
     "name": "stdout",
     "output_type": "stream",
     "text": [
      "Requirement already satisfied: numpy in c:\\users\\elcot\\appdata\\local\\programs\\python\\python39\\lib\\site-packages (1.21.2)\n"
     ]
    }
   ],
   "source": [
    "!pip3 install numpy"
   ]
  },
  {
   "cell_type": "markdown",
   "id": "78a49d01",
   "metadata": {},
   "source": [
    "# Python Buildin Functions in Bool variables "
   ]
  },
  {
   "cell_type": "code",
   "execution_count": 2,
   "id": "3f860b22",
   "metadata": {},
   "outputs": [],
   "source": [
    "my_name = \"Subash0304S\""
   ]
  },
  {
   "cell_type": "code",
   "execution_count": 3,
   "id": "f9fa78bd",
   "metadata": {},
   "outputs": [
    {
     "name": "stdout",
     "output_type": "stream",
     "text": [
      "False\n",
      "False\n",
      "True\n",
      "True\n",
      "False\n",
      "False\n",
      "False\n",
      "True\n",
      "True\n"
     ]
    }
   ],
   "source": [
    "print(my_name.isalpha()) #Check if all the str are alphas\n",
    "print(my_name.isdigit()) # Check if str contains any digits\n",
    "print(my_name.isalnum())#Chech if all the str are numbers\n",
    "print(my_name.istitle()) # check if str contains Titile words.(Title case means which the words are strat with upppercase and remaing all are lower case)\n",
    "print(my_name.islower()) # Check if the str contains only the lowercases\n",
    "print(my_name.isupper()) # Check if the str contains only the uppercases\n",
    "print(my_name.isspace()) # check if any spaces in the str\n",
    "print(my_name.startswith('S')) # cehck if the str starts with 's'\n",
    "print(my_name.endswith('S')) # check if the str ends with 'h'"
   ]
  },
  {
   "cell_type": "markdown",
   "id": "47bfd9f1",
   "metadata": {},
   "source": [
    "## Boolean and Logic Operators"
   ]
  },
  {
   "cell_type": "markdown",
   "id": "bcb317d7",
   "metadata": {},
   "source": [
    "### and , or ,not"
   ]
  },
  {
   "cell_type": "code",
   "execution_count": 9,
   "id": "88c653b9",
   "metadata": {},
   "outputs": [
    {
     "data": {
      "text/plain": [
       "True"
      ]
     },
     "execution_count": 9,
     "metadata": {},
     "output_type": "execute_result"
    }
   ],
   "source": [
    "True and True"
   ]
  },
  {
   "cell_type": "code",
   "execution_count": 10,
   "id": "b9620c00",
   "metadata": {},
   "outputs": [
    {
     "data": {
      "text/plain": [
       "False"
      ]
     },
     "execution_count": 10,
     "metadata": {},
     "output_type": "execute_result"
    }
   ],
   "source": [
    "False and False"
   ]
  },
  {
   "cell_type": "code",
   "execution_count": 11,
   "id": "158d2e82",
   "metadata": {},
   "outputs": [
    {
     "data": {
      "text/plain": [
       "True"
      ]
     },
     "execution_count": 11,
     "metadata": {},
     "output_type": "execute_result"
    }
   ],
   "source": [
    "True or False"
   ]
  },
  {
   "cell_type": "code",
   "execution_count": 12,
   "id": "99c21c47",
   "metadata": {},
   "outputs": [
    {
     "data": {
      "text/plain": [
       "True"
      ]
     },
     "execution_count": 12,
     "metadata": {},
     "output_type": "execute_result"
    }
   ],
   "source": [
    "False or True"
   ]
  },
  {
   "cell_type": "code",
   "execution_count": 13,
   "id": "d5f9c625",
   "metadata": {},
   "outputs": [
    {
     "data": {
      "text/plain": [
       "False"
      ]
     },
     "execution_count": 13,
     "metadata": {},
     "output_type": "execute_result"
    }
   ],
   "source": [
    "False or False"
   ]
  },
  {
   "cell_type": "code",
   "execution_count": 18,
   "id": "92baffcf",
   "metadata": {},
   "outputs": [],
   "source": [
    "my_name = \"Subashs\"\n",
    "my_age = 'ageis'"
   ]
  },
  {
   "cell_type": "code",
   "execution_count": 19,
   "id": "128c2671",
   "metadata": {},
   "outputs": [
    {
     "name": "stdout",
     "output_type": "stream",
     "text": [
      "True\n"
     ]
    }
   ],
   "source": [
    "print(my_name.isalpha() or my_age.isalnum())"
   ]
  },
  {
   "cell_type": "markdown",
   "id": "016bb3c6",
   "metadata": {},
   "source": [
    "## List "
   ]
  },
  {
   "cell_type": "markdown",
   "id": "c2352d2d",
   "metadata": {},
   "source": [
    "#### The list is a data structure in python that is mutable or changable or ordered sequence of elements.Each element or value that is inside of a list is called an item.just as strings are having values in quotes , list are having the values inside of square brackets [ ]"
   ]
  },
  {
   "cell_type": "code",
   "execution_count": 22,
   "id": "da6ca904",
   "metadata": {},
   "outputs": [],
   "source": [
    "list_example = []"
   ]
  },
  {
   "cell_type": "code",
   "execution_count": 23,
   "id": "5bf676a2",
   "metadata": {},
   "outputs": [
    {
     "data": {
      "text/plain": [
       "list"
      ]
     },
     "execution_count": 23,
     "metadata": {},
     "output_type": "execute_result"
    }
   ],
   "source": [
    "type(list_example)"
   ]
  },
  {
   "cell_type": "code",
   "execution_count": 24,
   "id": "a20fe7c3",
   "metadata": {},
   "outputs": [
    {
     "data": {
      "text/plain": [
       "list"
      ]
     },
     "execution_count": 24,
     "metadata": {},
     "output_type": "execute_result"
    }
   ],
   "source": [
    "lst = list()\n",
    "type(lst)"
   ]
  },
  {
   "cell_type": "code",
   "execution_count": 2,
   "id": "3110dbb6",
   "metadata": {},
   "outputs": [],
   "source": [
    "lst  = ['Subash', 'Scores','are' , 90, 80, 90, 93,98]"
   ]
  },
  {
   "cell_type": "code",
   "execution_count": 5,
   "id": "6bfbdbd0",
   "metadata": {},
   "outputs": [
    {
     "data": {
      "text/plain": [
       "['Subash', 'Scores', 'are', 90, 80, 90, 93, 98, 'Rock', ['Rock', 'John']]"
      ]
     },
     "execution_count": 5,
     "metadata": {},
     "output_type": "execute_result"
    }
   ],
   "source": [
    "#appending nested list\n",
    "lst.append([\"Rock\",\"John\"])\n",
    "lst"
   ]
  },
  {
   "cell_type": "code",
   "execution_count": 27,
   "id": "225d4c9d",
   "metadata": {},
   "outputs": [
    {
     "data": {
      "text/plain": [
       "list"
      ]
     },
     "execution_count": 27,
     "metadata": {},
     "output_type": "execute_result"
    }
   ],
   "source": [
    "type(lst)"
   ]
  },
  {
   "cell_type": "code",
   "execution_count": 28,
   "id": "9bc75176",
   "metadata": {},
   "outputs": [
    {
     "data": {
      "text/plain": [
       "'Subash'"
      ]
     },
     "execution_count": 28,
     "metadata": {},
     "output_type": "execute_result"
    }
   ],
   "source": [
    "#indexing in list\n",
    "lst[0]"
   ]
  },
  {
   "cell_type": "code",
   "execution_count": 29,
   "id": "96da3295",
   "metadata": {},
   "outputs": [
    {
     "data": {
      "text/plain": [
       "['are', 90]"
      ]
     },
     "execution_count": 29,
     "metadata": {},
     "output_type": "execute_result"
    }
   ],
   "source": [
    "lst[2:4]"
   ]
  },
  {
   "cell_type": "code",
   "execution_count": 30,
   "id": "c63ecad7",
   "metadata": {},
   "outputs": [
    {
     "data": {
      "text/plain": [
       "[90, 93, 98, ['Rock', 'John']]"
      ]
     },
     "execution_count": 30,
     "metadata": {},
     "output_type": "execute_result"
    }
   ],
   "source": [
    "lst[5:]"
   ]
  },
  {
   "cell_type": "code",
   "execution_count": 31,
   "id": "3dd0577e",
   "metadata": {},
   "outputs": [
    {
     "data": {
      "text/plain": [
       "9"
      ]
     },
     "execution_count": 31,
     "metadata": {},
     "output_type": "execute_result"
    }
   ],
   "source": [
    "len(lst)"
   ]
  },
  {
   "cell_type": "code",
   "execution_count": 7,
   "id": "43720257",
   "metadata": {},
   "outputs": [
    {
     "name": "stdout",
     "output_type": "stream",
     "text": [
      "['Subash', 'Scores', 'are', 90, 80, 90, 93, 98, 'Rock', ['Rock', 'John']]\n"
     ]
    }
   ],
   "source": [
    "print(lst, sep = ',')"
   ]
  },
  {
   "cell_type": "markdown",
   "id": "694225a3",
   "metadata": {},
   "source": [
    "### Append"
   ]
  },
  {
   "cell_type": "code",
   "execution_count": 33,
   "id": "31d265e5",
   "metadata": {},
   "outputs": [
    {
     "name": "stdout",
     "output_type": "stream",
     "text": [
      "['Subash', 'Scores', 'are', 90, 80, 90, 93, 98, ['Rock', 'John'], 'Cognizant']\n"
     ]
    }
   ],
   "source": [
    "#.append is used to add a element into the list\n",
    "lst.append(\"Cognizant\")\n",
    "print(lst)"
   ]
  },
  {
   "cell_type": "code",
   "execution_count": 34,
   "id": "4ddf5901",
   "metadata": {},
   "outputs": [
    {
     "name": "stdout",
     "output_type": "stream",
     "text": [
      "['Subash', 'Scores', 'are', 90, 80, 90, 93, 98, ['Rock', 'John'], 'Cognizant', ['Rock', 'John']]\n"
     ]
    }
   ],
   "source": [
    "#appending nested list\n",
    "lst.append([\"Rock\",\"John\"])\n",
    "print(lst)"
   ]
  },
  {
   "cell_type": "code",
   "execution_count": 35,
   "id": "ff9445b6",
   "metadata": {},
   "outputs": [
    {
     "data": {
      "text/plain": [
       "11"
      ]
     },
     "execution_count": 35,
     "metadata": {},
     "output_type": "execute_result"
    }
   ],
   "source": [
    "len(lst)"
   ]
  },
  {
   "cell_type": "markdown",
   "id": "5d7b7d3b",
   "metadata": {},
   "source": [
    "## Insert"
   ]
  },
  {
   "cell_type": "code",
   "execution_count": 36,
   "id": "80921a2a",
   "metadata": {},
   "outputs": [
    {
     "name": "stdout",
     "output_type": "stream",
     "text": [
      "['Subash', 'Scores', 'are', 90, 80, 90, 93, 98, ['Rock', 'John'], 'CBE', 'Cognizant', ['Rock', 'John']]\n"
     ]
    }
   ],
   "source": [
    "#insert in a specific order\n",
    "lst.insert(9,\"CBE\")\n",
    "print(lst)"
   ]
  },
  {
   "cell_type": "markdown",
   "id": "adb77d3e",
   "metadata": {},
   "source": [
    "## Extend"
   ]
  },
  {
   "cell_type": "markdown",
   "id": "acb44d1f",
   "metadata": {},
   "source": [
    "#### While using the append function it will create a seperate element in the list but while using the extend element it was added the elements in the list with the similiar elements"
   ]
  },
  {
   "cell_type": "code",
   "execution_count": 37,
   "id": "462a2325",
   "metadata": {},
   "outputs": [
    {
     "name": "stdout",
     "output_type": "stream",
     "text": [
      "['Subash', 'Scores', 'are', 90, 80, 90, 93, 98, ['Rock', 'John'], 'CBE', 'Cognizant', ['Rock', 'John'], 'Max', 'Ragav']\n"
     ]
    }
   ],
   "source": [
    "lst.extend([\"Max\",\"Ragav\"])\n",
    "print(lst)"
   ]
  },
  {
   "cell_type": "markdown",
   "id": "f70a686c",
   "metadata": {},
   "source": [
    "### Various operations that we perform in list"
   ]
  },
  {
   "cell_type": "code",
   "execution_count": 38,
   "id": "fc02473c",
   "metadata": {},
   "outputs": [
    {
     "data": {
      "text/plain": [
       "24"
      ]
     },
     "execution_count": 38,
     "metadata": {},
     "output_type": "execute_result"
    }
   ],
   "source": [
    "lst1 = [2,3,4,6,7,2]\n",
    "sum(lst1)"
   ]
  },
  {
   "cell_type": "code",
   "execution_count": 29,
   "id": "00d98c4a",
   "metadata": {},
   "outputs": [
    {
     "name": "stdout",
     "output_type": "stream",
     "text": [
      "[2, 3, 4, 6, 7, 2, 2, 3, 4, 6, 7, 2]\n",
      "[2, 3, 4, 6, 7, 2, 2, 3, 4, 6, 7, 2, 2, 3, 4, 6, 7, 2]\n"
     ]
    }
   ],
   "source": [
    "# using * in the list it was print the list in the given value of times but not it get multiplied the elements by the given value\n",
    "#For Example\n",
    "print(lst1*2)\n",
    "print(lst1*3)"
   ]
  },
  {
   "cell_type": "markdown",
   "id": "63faacb1",
   "metadata": {},
   "source": [
    "### pop() Method"
   ]
  },
  {
   "cell_type": "markdown",
   "id": "fdde29bb",
   "metadata": {},
   "source": [
    "#### Pop function is used for try to picup or remove the element of the list based on the given index"
   ]
  },
  {
   "cell_type": "code",
   "execution_count": 30,
   "id": "d297a364",
   "metadata": {},
   "outputs": [
    {
     "data": {
      "text/plain": [
       "2"
      ]
     },
     "execution_count": 30,
     "metadata": {},
     "output_type": "execute_result"
    }
   ],
   "source": [
    "lst1.pop() #if we didn't give any inidex inside the () it will get the last element of the list"
   ]
  },
  {
   "cell_type": "code",
   "execution_count": 31,
   "id": "6dc0690e",
   "metadata": {},
   "outputs": [
    {
     "data": {
      "text/plain": [
       "[2, 3, 4, 6, 7]"
      ]
     },
     "execution_count": 31,
     "metadata": {},
     "output_type": "execute_result"
    }
   ],
   "source": [
    "lst1"
   ]
  },
  {
   "cell_type": "code",
   "execution_count": 32,
   "id": "142bd3a3",
   "metadata": {},
   "outputs": [
    {
     "data": {
      "text/plain": [
       "2"
      ]
     },
     "execution_count": 32,
     "metadata": {},
     "output_type": "execute_result"
    }
   ],
   "source": [
    "lst1.pop(0)"
   ]
  },
  {
   "cell_type": "code",
   "execution_count": 33,
   "id": "c9f97fda",
   "metadata": {},
   "outputs": [
    {
     "data": {
      "text/plain": [
       "[3, 4, 6, 7]"
      ]
     },
     "execution_count": 33,
     "metadata": {},
     "output_type": "execute_result"
    }
   ],
   "source": [
    "lst1"
   ]
  },
  {
   "cell_type": "markdown",
   "id": "24102d49",
   "metadata": {},
   "source": [
    "### count () calculate total occurance of given element of list"
   ]
  },
  {
   "cell_type": "markdown",
   "id": "b307ff19",
   "metadata": {},
   "source": [
    "#### count functions was count the element , how many time the element was inside list , its was based in the element within()"
   ]
  },
  {
   "cell_type": "code",
   "execution_count": 34,
   "id": "44c5f956",
   "metadata": {},
   "outputs": [],
   "source": [
    "lst3 = [1,2,2,3,4,5,6,7,8,9]"
   ]
  },
  {
   "cell_type": "code",
   "execution_count": 35,
   "id": "ab854057",
   "metadata": {},
   "outputs": [
    {
     "data": {
      "text/plain": [
       "2"
      ]
     },
     "execution_count": 35,
     "metadata": {},
     "output_type": "execute_result"
    }
   ],
   "source": [
    "lst3.count(2) #it printout how many times the element 2 was inside the list"
   ]
  },
  {
   "cell_type": "code",
   "execution_count": 40,
   "id": "5edc5863",
   "metadata": {},
   "outputs": [
    {
     "data": {
      "text/plain": [
       "4"
      ]
     },
     "execution_count": 40,
     "metadata": {},
     "output_type": "execute_result"
    }
   ],
   "source": [
    "#using index in returns the index of first occurance. Start and end index are not neccessary parameters\n",
    "lst3.index(4) # it will give the values which is in the 4th index of the list"
   ]
  },
  {
   "cell_type": "code",
   "execution_count": 41,
   "id": "5b05cd87",
   "metadata": {},
   "outputs": [
    {
     "data": {
      "text/plain": [
       "3"
      ]
     },
     "execution_count": 41,
     "metadata": {},
     "output_type": "execute_result"
    }
   ],
   "source": [
    "lst3.index(3, 0, 6) #3 is which (value) to be check in the list , 0 is (starting) index in the list, 6 is (ending) index of the list"
   ]
  },
  {
   "cell_type": "code",
   "execution_count": 42,
   "id": "3aae23ce",
   "metadata": {},
   "outputs": [
    {
     "data": {
      "text/plain": [
       "1"
      ]
     },
     "execution_count": 42,
     "metadata": {},
     "output_type": "execute_result"
    }
   ],
   "source": [
    "#min \n",
    "min(lst3)"
   ]
  },
  {
   "cell_type": "code",
   "execution_count": 43,
   "id": "b1d2ee7b",
   "metadata": {},
   "outputs": [
    {
     "data": {
      "text/plain": [
       "9"
      ]
     },
     "execution_count": 43,
     "metadata": {},
     "output_type": "execute_result"
    }
   ],
   "source": [
    "#max\n",
    "max(lst3)"
   ]
  },
  {
   "cell_type": "code",
   "execution_count": null,
   "id": "044c145f",
   "metadata": {},
   "outputs": [],
   "source": []
  }
 ],
 "metadata": {
  "kernelspec": {
   "display_name": "Python 3 (ipykernel)",
   "language": "python",
   "name": "python3"
  },
  "language_info": {
   "codemirror_mode": {
    "name": "ipython",
    "version": 3
   },
   "file_extension": ".py",
   "mimetype": "text/x-python",
   "name": "python",
   "nbconvert_exporter": "python",
   "pygments_lexer": "ipython3",
   "version": "3.9.6"
  }
 },
 "nbformat": 4,
 "nbformat_minor": 5
}
