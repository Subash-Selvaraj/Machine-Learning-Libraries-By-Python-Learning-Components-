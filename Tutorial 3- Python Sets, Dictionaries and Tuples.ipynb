{
 "cells": [
  {
   "cell_type": "markdown",
   "id": "1915864b",
   "metadata": {},
   "source": [
    "# Sets"
   ]
  },
  {
   "cell_type": "markdown",
   "id": "767fbf13",
   "metadata": {},
   "source": [
    "#### A set is an unordered collection data type that is iterable,mutable and has no dublicates elements.Python's set class represents the mathematical notation of a set.This is based on data structure known as a hash table."
   ]
  },
  {
   "cell_type": "code",
   "execution_count": 1,
   "id": "508311c9",
   "metadata": {},
   "outputs": [
    {
     "name": "stdout",
     "output_type": "stream",
     "text": [
      "set()\n",
      "<class 'set'>\n"
     ]
    }
   ],
   "source": [
    "#Defining an empty set\n",
    "\n",
    "set_var = set()\n",
    "print(set_var)\n",
    "print(type(set_var))"
   ]
  },
  {
   "cell_type": "code",
   "execution_count": 4,
   "id": "c1f58bfd",
   "metadata": {},
   "outputs": [
    {
     "data": {
      "text/plain": [
       "{1, 2, 3, 4}"
      ]
     },
     "execution_count": 4,
     "metadata": {},
     "output_type": "execute_result"
    }
   ],
   "source": [
    "set_var ={1,2,3,4,3} \n",
    "set_var #Didn't allow duplicates elements"
   ]
  },
  {
   "cell_type": "code",
   "execution_count": 8,
   "id": "9d744f15",
   "metadata": {},
   "outputs": [],
   "source": [
    "#indexing\n",
    "#set_var[0] #doesn't allow the indexing"
   ]
  },
  {
   "cell_type": "code",
   "execution_count": 1,
   "id": "ac36edbc",
   "metadata": {},
   "outputs": [],
   "source": [
    "set_var ={\"Roman\",\"GoldBerg\",\"John\",\"Rock\"}"
   ]
  },
  {
   "cell_type": "code",
   "execution_count": 4,
   "id": "ed605d67",
   "metadata": {},
   "outputs": [
    {
     "data": {
      "text/plain": [
       "{'GoldBerg', 'John', 'Rock', 'Roman'}"
      ]
     },
     "execution_count": 4,
     "metadata": {},
     "output_type": "execute_result"
    }
   ],
   "source": [
    "set_var"
   ]
  },
  {
   "cell_type": "code",
   "execution_count": 27,
   "id": "b1e10a45",
   "metadata": {},
   "outputs": [
    {
     "data": {
      "text/plain": [
       "{'GoldBerg', 'John', 'Rock', 'Roman', 'Undertaker'}"
      ]
     },
     "execution_count": 27,
     "metadata": {},
     "output_type": "execute_result"
    }
   ],
   "source": [
    "#Set doesn't allow append attribute but ot allows to add the element using \"add\" attribute\n",
    "set_var.add(\"Undertaker\")\n",
    "set_var"
   ]
  },
  {
   "cell_type": "code",
   "execution_count": 30,
   "id": "d45123b6",
   "metadata": {},
   "outputs": [
    {
     "data": {
      "text/plain": [
       "'Undertaker'"
      ]
     },
     "execution_count": 30,
     "metadata": {},
     "output_type": "execute_result"
    }
   ],
   "source": [
    "set_var.pop() # pop function to remove the element in the set"
   ]
  },
  {
   "cell_type": "code",
   "execution_count": 31,
   "id": "19799d0b",
   "metadata": {},
   "outputs": [
    {
     "data": {
      "text/plain": [
       "{'GoldBerg', 'John', 'Rock'}"
      ]
     },
     "execution_count": 31,
     "metadata": {},
     "output_type": "execute_result"
    }
   ],
   "source": [
    "set_var"
   ]
  },
  {
   "cell_type": "code",
   "execution_count": 67,
   "id": "1f330873",
   "metadata": {},
   "outputs": [],
   "source": [
    "set1={\"Roman\",\"GoldBerg\",\"John\",\"Rock\"}\n",
    "set2={\"Roman\",\"GoldBerg\",\"John\",\"Rock\",\"Undertaker\"}"
   ]
  },
  {
   "cell_type": "code",
   "execution_count": 68,
   "id": "b40ca154",
   "metadata": {},
   "outputs": [
    {
     "data": {
      "text/plain": [
       "{'GoldBerg', 'John', 'Rock', 'Roman'}"
      ]
     },
     "execution_count": 68,
     "metadata": {},
     "output_type": "execute_result"
    }
   ],
   "source": [
    "set2.intersection(set1) #it give the output of common elements in the both sets"
   ]
  },
  {
   "cell_type": "code",
   "execution_count": 69,
   "id": "ac31cd5b",
   "metadata": {},
   "outputs": [
    {
     "data": {
      "text/plain": [
       "{'GoldBerg', 'John', 'Rock', 'Roman'}"
      ]
     },
     "execution_count": 69,
     "metadata": {},
     "output_type": "execute_result"
    }
   ],
   "source": [
    "set2.intersection_update(set1) #it will update the set two as per the common elements in the both sets\n",
    "set2"
   ]
  },
  {
   "cell_type": "code",
   "execution_count": 70,
   "id": "73285527",
   "metadata": {},
   "outputs": [],
   "source": [
    "set1={\"Roman\",\"GoldBerg\",\"John\",\"Rock\"}\n",
    "set2={\"Roman\",\"GoldBerg\",\"John\",\"Rock\",\"Undertaker\"}"
   ]
  },
  {
   "cell_type": "code",
   "execution_count": 74,
   "id": "b3c2ed9b",
   "metadata": {},
   "outputs": [
    {
     "data": {
      "text/plain": [
       "{'Undertaker'}"
      ]
     },
     "execution_count": 74,
     "metadata": {},
     "output_type": "execute_result"
    }
   ],
   "source": [
    "set2.difference(set1) #it will give the output, which the element differ from set 1 that mean which value doesn't hold in set 1"
   ]
  },
  {
   "cell_type": "code",
   "execution_count": 75,
   "id": "2afb97ae",
   "metadata": {},
   "outputs": [],
   "source": [
    "set2.difference_update(set1) #it was update set2, which the value was not difer from the set 1 compare to set 2"
   ]
  },
  {
   "cell_type": "code",
   "execution_count": 77,
   "id": "0d206796",
   "metadata": {},
   "outputs": [
    {
     "data": {
      "text/plain": [
       "{'Undertaker'}"
      ]
     },
     "execution_count": 77,
     "metadata": {},
     "output_type": "execute_result"
    }
   ],
   "source": [
    "set2 # displays the new set2 as after update the differ elements"
   ]
  },
  {
   "cell_type": "code",
   "execution_count": 78,
   "id": "2c57b6e3",
   "metadata": {},
   "outputs": [],
   "source": [
    "set1={\"Roman\",\"GoldBerg\",\"John\",\"Rock\"}\n",
    "set2={\"Roman\",\"GoldBerg\",\"John\",\"Rock\",\"Undertaker\"}"
   ]
  },
  {
   "cell_type": "code",
   "execution_count": 81,
   "id": "debfab4b",
   "metadata": {},
   "outputs": [],
   "source": [
    "set1.clear() # it was clear the all elements in set1"
   ]
  },
  {
   "cell_type": "code",
   "execution_count": 85,
   "id": "f0857f59",
   "metadata": {},
   "outputs": [
    {
     "name": "stdout",
     "output_type": "stream",
     "text": [
      "set()\n"
     ]
    }
   ],
   "source": [
    "print(set1)"
   ]
  },
  {
   "cell_type": "code",
   "execution_count": 87,
   "id": "fb4ba0d7",
   "metadata": {},
   "outputs": [],
   "source": [
    "set2.clear()"
   ]
  },
  {
   "cell_type": "code",
   "execution_count": 88,
   "id": "bb7aaa7a",
   "metadata": {},
   "outputs": [
    {
     "name": "stdout",
     "output_type": "stream",
     "text": [
      "set()\n"
     ]
    }
   ],
   "source": [
    "print(set2)"
   ]
  },
  {
   "cell_type": "markdown",
   "id": "c02a7a25",
   "metadata": {},
   "source": [
    "# Dictionaries"
   ]
  },
  {
   "cell_type": "markdown",
   "id": "1c4f003c",
   "metadata": {},
   "source": [
    "#### A dictionary is a collection which is unordered, changeable and indexed. In python dictionaries are written with curly braces and they have keys and values"
   ]
  },
  {
   "cell_type": "code",
   "execution_count": 89,
   "id": "02fdec19",
   "metadata": {},
   "outputs": [],
   "source": [
    "dic={}"
   ]
  },
  {
   "cell_type": "code",
   "execution_count": 90,
   "id": "05b292f7",
   "metadata": {},
   "outputs": [
    {
     "data": {
      "text/plain": [
       "dict"
      ]
     },
     "execution_count": 90,
     "metadata": {},
     "output_type": "execute_result"
    }
   ],
   "source": [
    "type(dic)"
   ]
  },
  {
   "cell_type": "code",
   "execution_count": 92,
   "id": "b8ba3ad3",
   "metadata": {},
   "outputs": [
    {
     "data": {
      "text/plain": [
       "set"
      ]
     },
     "execution_count": 92,
     "metadata": {},
     "output_type": "execute_result"
    }
   ],
   "source": [
    "dic={1,2,3,4,5} #Don't create a dictionaries like this because the machine was considering this a set\n",
    "type(dic)"
   ]
  },
  {
   "cell_type": "code",
   "execution_count": 17,
   "id": "3c8ec2c9",
   "metadata": {},
   "outputs": [
    {
     "name": "stdout",
     "output_type": "stream",
     "text": [
      "<class 'dict'>\n",
      "{'car1': 'Audi', 'car2': 'BMW', 'car3': 'Tesla', 'car4': 'Lambargini'}\n",
      "dict_keys(['car1', 'car2', 'car3', 'car4'])\n",
      "dict_values(['Audi', 'BMW', 'Tesla', 'Lambargini'])\n"
     ]
    }
   ],
   "source": [
    "# Let create a dict\n",
    "dic = {\n",
    "    \"car1\" : \"Audi\",\n",
    "    \"car2\" : \"BMW\",\n",
    "    \"car3\" : \"Tesla\",\n",
    "    'car4' : \"Lambargini\"\n",
    "}\n",
    "print(type(dic))\n",
    "print(dic)\n",
    "print(dic.keys())\n",
    "print(dic.values())"
   ]
  },
  {
   "cell_type": "code",
   "execution_count": 18,
   "id": "7e80ee48",
   "metadata": {},
   "outputs": [
    {
     "data": {
      "text/plain": [
       "'BMW'"
      ]
     },
     "execution_count": 18,
     "metadata": {},
     "output_type": "execute_result"
    }
   ],
   "source": [
    "dic['car2'] # Get the values using the indexing with the keydic['car1'] "
   ]
  },
  {
   "cell_type": "code",
   "execution_count": 19,
   "id": "c1b7d3e4",
   "metadata": {},
   "outputs": [
    {
     "data": {
      "text/plain": [
       "'BMW'"
      ]
     },
     "execution_count": 19,
     "metadata": {},
     "output_type": "execute_result"
    }
   ],
   "source": [
    "dic['car2'] # Get the values using the indexing with the key"
   ]
  },
  {
   "cell_type": "code",
   "execution_count": 20,
   "id": "e06cf908",
   "metadata": {},
   "outputs": [
    {
     "data": {
      "text/plain": [
       "'Tesla'"
      ]
     },
     "execution_count": 20,
     "metadata": {},
     "output_type": "execute_result"
    }
   ],
   "source": [
    "dic[\"car3\"]# Get the values using the indexing with the key"
   ]
  },
  {
   "cell_type": "code",
   "execution_count": 21,
   "id": "ba87defa",
   "metadata": {},
   "outputs": [],
   "source": [
    "dic['car3'] = \"Tata\" # change the values using the key"
   ]
  },
  {
   "cell_type": "code",
   "execution_count": 22,
   "id": "866df9b9",
   "metadata": {},
   "outputs": [
    {
     "data": {
      "text/plain": [
       "{'car1': 'Audi', 'car2': 'BMW', 'car3': 'Tata', 'car4': 'Lambargini'}"
      ]
     },
     "execution_count": 22,
     "metadata": {},
     "output_type": "execute_result"
    }
   ],
   "source": [
    "dic"
   ]
  },
  {
   "cell_type": "code",
   "execution_count": 23,
   "id": "3a705111",
   "metadata": {},
   "outputs": [],
   "source": [
    "car = {'car5':'Toyota'}\n",
    "dic.update(car) # update the new element into the dictionaries"
   ]
  },
  {
   "cell_type": "code",
   "execution_count": 24,
   "id": "62163ec5",
   "metadata": {},
   "outputs": [
    {
     "data": {
      "text/plain": [
       "{'car1': 'Audi',\n",
       " 'car2': 'BMW',\n",
       " 'car3': 'Tata',\n",
       " 'car4': 'Lambargini',\n",
       " 'car5': 'Toyota'}"
      ]
     },
     "execution_count": 24,
     "metadata": {},
     "output_type": "execute_result"
    }
   ],
   "source": [
    "dic"
   ]
  },
  {
   "cell_type": "code",
   "execution_count": 25,
   "id": "d64449df",
   "metadata": {},
   "outputs": [],
   "source": [
    "dic.update({\"car6\":\"Nexon\"})# update the new element into the dictionaries"
   ]
  },
  {
   "cell_type": "code",
   "execution_count": 26,
   "id": "8bddac7f",
   "metadata": {},
   "outputs": [
    {
     "data": {
      "text/plain": [
       "{'car1': 'Audi',\n",
       " 'car2': 'BMW',\n",
       " 'car3': 'Tata',\n",
       " 'car4': 'Lambargini',\n",
       " 'car5': 'Toyota',\n",
       " 'car6': 'Nexon'}"
      ]
     },
     "execution_count": 26,
     "metadata": {},
     "output_type": "execute_result"
    }
   ],
   "source": [
    "dic"
   ]
  },
  {
   "cell_type": "code",
   "execution_count": 27,
   "id": "dcaf3234",
   "metadata": {},
   "outputs": [],
   "source": [
    "dic['car7'] = 'sumo' # update the new element into the dictionaries"
   ]
  },
  {
   "cell_type": "code",
   "execution_count": 28,
   "id": "983d4230",
   "metadata": {},
   "outputs": [
    {
     "data": {
      "text/plain": [
       "{'car1': 'Audi',\n",
       " 'car2': 'BMW',\n",
       " 'car3': 'Tata',\n",
       " 'car4': 'Lambargini',\n",
       " 'car5': 'Toyota',\n",
       " 'car6': 'Nexon',\n",
       " 'car7': 'sumo'}"
      ]
     },
     "execution_count": 28,
     "metadata": {},
     "output_type": "execute_result"
    }
   ],
   "source": [
    "dic"
   ]
  },
  {
   "cell_type": "code",
   "execution_count": 29,
   "id": "666a98ca",
   "metadata": {},
   "outputs": [
    {
     "data": {
      "text/plain": [
       "'Audi'"
      ]
     },
     "execution_count": 29,
     "metadata": {},
     "output_type": "execute_result"
    }
   ],
   "source": [
    "dic.get('car1') #get the element using get function it was similiar to indexing"
   ]
  },
  {
   "cell_type": "code",
   "execution_count": 30,
   "id": "e9580a03",
   "metadata": {},
   "outputs": [
    {
     "data": {
      "text/plain": [
       "dict_items([('car1', 'Audi'), ('car2', 'BMW'), ('car3', 'Tata'), ('car4', 'Lambargini'), ('car5', 'Toyota'), ('car6', 'Nexon'), ('car7', 'sumo')])"
      ]
     },
     "execution_count": 30,
     "metadata": {},
     "output_type": "execute_result"
    }
   ],
   "source": [
    "dic.items()"
   ]
  },
  {
   "cell_type": "code",
   "execution_count": 34,
   "id": "f7c40d5f",
   "metadata": {},
   "outputs": [
    {
     "data": {
      "text/plain": [
       "{'yamaha': '133cc', 'ducati': '133cc', 'bmw': '133cc'}"
      ]
     },
     "execution_count": 34,
     "metadata": {},
     "output_type": "execute_result"
    }
   ],
   "source": [
    "#to create a key and assign the values for the key using \"fromkeys\" function\n",
    "a = 'yamaha','ducati','bmw'\n",
    "b = '133cc'\n",
    "dic.fromkeys(a , b) "
   ]
  },
  {
   "cell_type": "code",
   "execution_count": 35,
   "id": "fc1986f3",
   "metadata": {},
   "outputs": [
    {
     "data": {
      "text/plain": [
       "7"
      ]
     },
     "execution_count": 35,
     "metadata": {},
     "output_type": "execute_result"
    }
   ],
   "source": [
    "len(dic)"
   ]
  },
  {
   "cell_type": "code",
   "execution_count": 209,
   "id": "e76966ea",
   "metadata": {},
   "outputs": [
    {
     "name": "stdout",
     "output_type": "stream",
     "text": [
      "car1\n",
      "car2\n",
      "car3\n",
      "car4\n",
      "car5\n",
      "car6\n",
      "car7\n"
     ]
    }
   ],
   "source": [
    "# we can even loop throught the dictionaries keys\n",
    "for x in dic:\n",
    "    print(x)"
   ]
  },
  {
   "cell_type": "code",
   "execution_count": 210,
   "id": "e448c03c",
   "metadata": {},
   "outputs": [
    {
     "name": "stdout",
     "output_type": "stream",
     "text": [
      "Audi\n",
      "BMW\n",
      "Tata\n",
      "Lambargini\n",
      "Toyota\n",
      "Nexon\n",
      "sumo\n"
     ]
    }
   ],
   "source": [
    "# we can even loop throught the dictionaries values\n",
    "for x in dic.values():\n",
    "    print(x)"
   ]
  },
  {
   "cell_type": "code",
   "execution_count": 211,
   "id": "4261fa97",
   "metadata": {},
   "outputs": [
    {
     "name": "stdout",
     "output_type": "stream",
     "text": [
      "('car1', 'Audi')\n",
      "('car2', 'BMW')\n",
      "('car3', 'Tata')\n",
      "('car4', 'Lambargini')\n",
      "('car5', 'Toyota')\n",
      "('car6', 'Nexon')\n",
      "('car7', 'sumo')\n"
     ]
    }
   ],
   "source": [
    "# we can even loop throught the dictionaries keys and values\n",
    "for x in dic.items():\n",
    "    print(x)"
   ]
  },
  {
   "cell_type": "markdown",
   "id": "359640ec",
   "metadata": {},
   "source": [
    "### Nested Dictionaries"
   ]
  },
  {
   "cell_type": "code",
   "execution_count": 38,
   "id": "bc4411e1",
   "metadata": {},
   "outputs": [],
   "source": [
    "car1_model={\"Mercedes\":1960}\n",
    "car2_model={\"Audi\":1980}\n",
    "car3_model={\"BMW\":2010}\n",
    "\n",
    "car_type={'car1':car1_model,'car2':car2_model,'car3':car3_model,}"
   ]
  },
  {
   "cell_type": "code",
   "execution_count": 39,
   "id": "c3928173",
   "metadata": {},
   "outputs": [
    {
     "data": {
      "text/plain": [
       "{'car1': {'Mercedes': 1960}, 'car2': {'Audi': 1980}, 'car3': {'BMW': 2010}}"
      ]
     },
     "execution_count": 39,
     "metadata": {},
     "output_type": "execute_result"
    }
   ],
   "source": [
    "car_type"
   ]
  },
  {
   "cell_type": "code",
   "execution_count": 218,
   "id": "c1b44f53",
   "metadata": {},
   "outputs": [
    {
     "data": {
      "text/plain": [
       "{'Audi': 1980}"
      ]
     },
     "execution_count": 218,
     "metadata": {},
     "output_type": "execute_result"
    }
   ],
   "source": [
    "car_type['car2'] #to get the values using keys"
   ]
  },
  {
   "cell_type": "code",
   "execution_count": 219,
   "id": "d4cddab9",
   "metadata": {},
   "outputs": [
    {
     "data": {
      "text/plain": [
       "1980"
      ]
     },
     "execution_count": 219,
     "metadata": {},
     "output_type": "execute_result"
    }
   ],
   "source": [
    "car_type['car2']['Audi']"
   ]
  },
  {
   "cell_type": "markdown",
   "id": "8d8db88c",
   "metadata": {},
   "source": [
    "### Tuples"
   ]
  },
  {
   "cell_type": "markdown",
   "id": "e559cd23",
   "metadata": {},
   "source": [
    "##### once create the tuple then we can't able to change any elements in the tuple"
   ]
  },
  {
   "cell_type": "code",
   "execution_count": 7,
   "id": "8c46cb63",
   "metadata": {},
   "outputs": [],
   "source": [
    "# crete a tuple\n",
    "my_tuple =tuple()"
   ]
  },
  {
   "cell_type": "code",
   "execution_count": 4,
   "id": "fe1bad1f",
   "metadata": {},
   "outputs": [
    {
     "data": {
      "text/plain": [
       "tuple"
      ]
     },
     "execution_count": 4,
     "metadata": {},
     "output_type": "execute_result"
    }
   ],
   "source": [
    "type(my_tuple)"
   ]
  },
  {
   "cell_type": "code",
   "execution_count": 5,
   "id": "f4f8d104",
   "metadata": {},
   "outputs": [],
   "source": [
    "my_tuples = (\"Subash\",\"Selvaraj\",\"Subash\") #tuples allow duplicates"
   ]
  },
  {
   "cell_type": "code",
   "execution_count": 6,
   "id": "661fb4ae",
   "metadata": {},
   "outputs": [
    {
     "name": "stdout",
     "output_type": "stream",
     "text": [
      "{'Selvaraj', 'Subash'}\n"
     ]
    }
   ],
   "source": [
    "print(set(my_tuples))"
   ]
  },
  {
   "cell_type": "code",
   "execution_count": null,
   "id": "5a2e49f5",
   "metadata": {},
   "outputs": [],
   "source": [
    "print(my_tuples)"
   ]
  },
  {
   "cell_type": "code",
   "execution_count": 248,
   "id": "3007d817",
   "metadata": {},
   "outputs": [
    {
     "data": {
      "text/plain": [
       "'Subash'"
      ]
     },
     "execution_count": 248,
     "metadata": {},
     "output_type": "execute_result"
    }
   ],
   "source": [
    "#we can using indexing in tuples\n",
    "my_tuples[0]"
   ]
  },
  {
   "cell_type": "code",
   "execution_count": 249,
   "id": "2373500d",
   "metadata": {},
   "outputs": [
    {
     "data": {
      "text/plain": [
       "('John', 'Vijay')"
      ]
     },
     "execution_count": 249,
     "metadata": {},
     "output_type": "execute_result"
    }
   ],
   "source": [
    "#we can change the entire tuple but not be able to change a single element in the tuple\n",
    "#For Example\n",
    "my_tuple = ('John','Vijay')\n",
    "my_tuple"
   ]
  }
 ],
 "metadata": {
  "kernelspec": {
   "display_name": "Python 3 (ipykernel)",
   "language": "python",
   "name": "python3"
  },
  "language_info": {
   "codemirror_mode": {
    "name": "ipython",
    "version": 3
   },
   "file_extension": ".py",
   "mimetype": "text/x-python",
   "name": "python",
   "nbconvert_exporter": "python",
   "pygments_lexer": "ipython3",
   "version": "3.9.6"
  }
 },
 "nbformat": 4,
 "nbformat_minor": 5
}
