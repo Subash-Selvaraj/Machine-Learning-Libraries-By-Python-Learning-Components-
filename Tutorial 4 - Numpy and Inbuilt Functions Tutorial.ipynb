{
 "cells": [
  {
   "cell_type": "markdown",
   "id": "a9aeaf7d",
   "metadata": {},
   "source": [
    "# Numpy Tutorials"
   ]
  },
  {
   "cell_type": "markdown",
   "id": "349033a3",
   "metadata": {},
   "source": [
    "#### Numpy is a general purpose array-processing, it provides a high performance multidimensional array object and tools for working with these arrays.This is the fundamental package for scientific computing with python"
   ]
  },
  {
   "cell_type": "markdown",
   "id": "f3945bfc",
   "metadata": {},
   "source": [
    "### What is an array? "
   ]
  },
  {
   "cell_type": "markdown",
   "id": "430db26c",
   "metadata": {},
   "source": [
    "#### An array is a data structure that store values of same data type.In python, this is the main difference between arrays and lists.while python list contains values correspponding to different data types,arrays in python can contains values corresponding to same data types"
   ]
  },
  {
   "cell_type": "code",
   "execution_count": 14,
   "id": "d1d0983e",
   "metadata": {},
   "outputs": [],
   "source": [
    "import numpy as np"
   ]
  },
  {
   "cell_type": "code",
   "execution_count": 15,
   "id": "d0ca2766",
   "metadata": {},
   "outputs": [],
   "source": [
    "my_lst =[1,2,3,4,5,6,7,8]\n",
    "arr =np.array(my_lst)"
   ]
  },
  {
   "cell_type": "code",
   "execution_count": 16,
   "id": "532d628b",
   "metadata": {},
   "outputs": [
    {
     "data": {
      "text/plain": [
       "numpy.ndarray"
      ]
     },
     "execution_count": 16,
     "metadata": {},
     "output_type": "execute_result"
    }
   ],
   "source": [
    "type(arr)"
   ]
  },
  {
   "cell_type": "code",
   "execution_count": 17,
   "id": "69e0bed0",
   "metadata": {},
   "outputs": [
    {
     "data": {
      "text/plain": [
       "array([1, 2, 3, 4, 5, 6, 7, 8])"
      ]
     },
     "execution_count": 17,
     "metadata": {},
     "output_type": "execute_result"
    }
   ],
   "source": [
    "arr #this is one dimentional array why because its having the only one opening square brocket and one close square bracket"
   ]
  },
  {
   "cell_type": "code",
   "execution_count": 18,
   "id": "7e575b77",
   "metadata": {},
   "outputs": [
    {
     "data": {
      "text/plain": [
       "(8,)"
      ]
     },
     "execution_count": 18,
     "metadata": {},
     "output_type": "execute_result"
    }
   ],
   "source": [
    "arr.shape"
   ]
  },
  {
   "cell_type": "code",
   "execution_count": 23,
   "id": "f2690c10",
   "metadata": {},
   "outputs": [],
   "source": [
    "#creating the lists \n",
    "#creat a multi nested array\n",
    "mylst1=[1,2,3,4,5,6]\n",
    "mylst2=[1,2,3,4,5,6]\n",
    "mylst3=[1,2,3,4,5,6]"
   ]
  },
  {
   "cell_type": "code",
   "execution_count": 24,
   "id": "68532fa6",
   "metadata": {},
   "outputs": [],
   "source": [
    "arr = np.array([mylst1, mylst2, mylst3]) #2 dimention array"
   ]
  },
  {
   "cell_type": "code",
   "execution_count": 25,
   "id": "e3ec6b64",
   "metadata": {},
   "outputs": [
    {
     "data": {
      "text/plain": [
       "array([[1, 2, 3, 4, 5, 6],\n",
       "       [1, 2, 3, 4, 5, 6],\n",
       "       [1, 2, 3, 4, 5, 6]])"
      ]
     },
     "execution_count": 25,
     "metadata": {},
     "output_type": "execute_result"
    }
   ],
   "source": [
    "arr"
   ]
  },
  {
   "cell_type": "code",
   "execution_count": 26,
   "id": "8b147186",
   "metadata": {},
   "outputs": [
    {
     "data": {
      "text/plain": [
       "(3, 6)"
      ]
     },
     "execution_count": 26,
     "metadata": {},
     "output_type": "execute_result"
    }
   ],
   "source": [
    "arr.shape #3 rows and 6 columns"
   ]
  },
  {
   "cell_type": "code",
   "execution_count": 31,
   "id": "143b9fc5",
   "metadata": {},
   "outputs": [
    {
     "data": {
      "text/plain": [
       "array([[1, 2, 3],\n",
       "       [4, 5, 6],\n",
       "       [1, 2, 3],\n",
       "       [4, 5, 6],\n",
       "       [1, 2, 3],\n",
       "       [4, 5, 6]])"
      ]
     },
     "execution_count": 31,
     "metadata": {},
     "output_type": "execute_result"
    }
   ],
   "source": [
    "arr.reshape(6,3) # before doing this action we have to create a lists which goes to convert as a 2 dimentional array"
   ]
  },
  {
   "cell_type": "code",
   "execution_count": 32,
   "id": "55b1b0dd",
   "metadata": {},
   "outputs": [
    {
     "data": {
      "text/plain": [
       "(3, 6)"
      ]
     },
     "execution_count": 32,
     "metadata": {},
     "output_type": "execute_result"
    }
   ],
   "source": [
    "arr.shape"
   ]
  },
  {
   "cell_type": "code",
   "execution_count": 33,
   "id": "9efe3e82",
   "metadata": {},
   "outputs": [
    {
     "data": {
      "text/plain": [
       "array([[1, 2, 3, 4, 5, 6, 1, 2, 3],\n",
       "       [4, 5, 6, 1, 2, 3, 4, 5, 6]])"
      ]
     },
     "execution_count": 33,
     "metadata": {},
     "output_type": "execute_result"
    }
   ],
   "source": [
    "arr.reshape(2,9) #reshape the array #while reshaping the array the reshaping rows and columns of thr product should be equal to the orginal shape of array products"
   ]
  },
  {
   "cell_type": "code",
   "execution_count": null,
   "id": "4785793a",
   "metadata": {},
   "outputs": [],
   "source": [
    "arr.shape #checking the shape of the array"
   ]
  },
  {
   "cell_type": "markdown",
   "id": "7e680414",
   "metadata": {},
   "source": [
    "### Indexing"
   ]
  },
  {
   "cell_type": "code",
   "execution_count": 34,
   "id": "0b480594",
   "metadata": {},
   "outputs": [],
   "source": [
    "##accessing the array elements\n",
    "arr = np.array([1,2,3,4,5,6,7,8,9])"
   ]
  },
  {
   "cell_type": "code",
   "execution_count": 35,
   "id": "12dbbcbe",
   "metadata": {},
   "outputs": [
    {
     "data": {
      "text/plain": [
       "4"
      ]
     },
     "execution_count": 35,
     "metadata": {},
     "output_type": "execute_result"
    }
   ],
   "source": [
    "arr[3] # index of the array"
   ]
  },
  {
   "cell_type": "code",
   "execution_count": 36,
   "id": "bb55e5ec",
   "metadata": {},
   "outputs": [],
   "source": [
    "#creating the lists\n",
    "mylst1=[1,2,3,4,5]\n",
    "mylst2=[2,3,4,5,6]\n",
    "mylst3=[9,7,6,8,9]\n",
    "arr = np.array([mylst1,mylst2,mylst3])"
   ]
  },
  {
   "cell_type": "code",
   "execution_count": 38,
   "id": "505186dc",
   "metadata": {},
   "outputs": [
    {
     "data": {
      "text/plain": [
       "array([[1, 2, 3, 4, 5],\n",
       "       [2, 3, 4, 5, 6],\n",
       "       [9, 7, 6, 8, 9]])"
      ]
     },
     "execution_count": 38,
     "metadata": {},
     "output_type": "execute_result"
    }
   ],
   "source": [
    "arr"
   ]
  },
  {
   "cell_type": "code",
   "execution_count": 39,
   "id": "b403e1d3",
   "metadata": {},
   "outputs": [
    {
     "data": {
      "text/plain": [
       "array([[1, 2],\n",
       "       [2, 3]])"
      ]
     },
     "execution_count": 39,
     "metadata": {},
     "output_type": "execute_result"
    }
   ],
   "source": [
    "#accessing the elements in 2 dimension array using indexing\n",
    "arr[0:2,0:2] #[0:2 represent the row starting point and row ending point in the array]"
   ]
  },
  {
   "cell_type": "code",
   "execution_count": 40,
   "id": "d6adb573",
   "metadata": {},
   "outputs": [
    {
     "data": {
      "text/plain": [
       "array([[5, 6],\n",
       "       [8, 9]])"
      ]
     },
     "execution_count": 40,
     "metadata": {},
     "output_type": "execute_result"
    }
   ],
   "source": [
    "arr[1:,3:] #1 represent staring the row from 1st row and to end and 3 represent the starting column and to end of the array,\":\" is represent as take the array as till end"
   ]
  },
  {
   "cell_type": "code",
   "execution_count": 41,
   "id": "f8f0eb4e",
   "metadata": {},
   "outputs": [
    {
     "data": {
      "text/plain": [
       "array([[4, 5],\n",
       "       [6, 8]])"
      ]
     },
     "execution_count": 41,
     "metadata": {},
     "output_type": "execute_result"
    }
   ],
   "source": [
    "arr[1:,2:4]"
   ]
  },
  {
   "cell_type": "code",
   "execution_count": 42,
   "id": "4de1135b",
   "metadata": {},
   "outputs": [
    {
     "data": {
      "text/plain": [
       "array([[3, 4],\n",
       "       [7, 6]])"
      ]
     },
     "execution_count": 42,
     "metadata": {},
     "output_type": "execute_result"
    }
   ],
   "source": [
    "arr[1:,1:3]"
   ]
  },
  {
   "cell_type": "code",
   "execution_count": 47,
   "id": "2574d5e3",
   "metadata": {},
   "outputs": [],
   "source": [
    "arr = np.arange(0,10) #create the array of the given range untill 10"
   ]
  },
  {
   "cell_type": "code",
   "execution_count": 50,
   "id": "984ed657",
   "metadata": {},
   "outputs": [
    {
     "data": {
      "text/plain": [
       "array([0, 1, 2, 3, 4, 5, 6, 7, 8, 9])"
      ]
     },
     "execution_count": 50,
     "metadata": {},
     "output_type": "execute_result"
    }
   ],
   "source": [
    "arr"
   ]
  },
  {
   "cell_type": "code",
   "execution_count": 51,
   "id": "5d20c970",
   "metadata": {},
   "outputs": [],
   "source": [
    "arr = np.arange(0,10,step=2) # create a array with 2 difference"
   ]
  },
  {
   "cell_type": "code",
   "execution_count": 52,
   "id": "a1dfce60",
   "metadata": {},
   "outputs": [
    {
     "data": {
      "text/plain": [
       "array([0, 2, 4, 6, 8])"
      ]
     },
     "execution_count": 52,
     "metadata": {},
     "output_type": "execute_result"
    }
   ],
   "source": [
    "arr"
   ]
  },
  {
   "cell_type": "code",
   "execution_count": 55,
   "id": "e8ac6a99",
   "metadata": {},
   "outputs": [
    {
     "data": {
      "text/plain": [
       "array([ 0.        ,  0.20408163,  0.40816327,  0.6122449 ,  0.81632653,\n",
       "        1.02040816,  1.2244898 ,  1.42857143,  1.63265306,  1.83673469,\n",
       "        2.04081633,  2.24489796,  2.44897959,  2.65306122,  2.85714286,\n",
       "        3.06122449,  3.26530612,  3.46938776,  3.67346939,  3.87755102,\n",
       "        4.08163265,  4.28571429,  4.48979592,  4.69387755,  4.89795918,\n",
       "        5.10204082,  5.30612245,  5.51020408,  5.71428571,  5.91836735,\n",
       "        6.12244898,  6.32653061,  6.53061224,  6.73469388,  6.93877551,\n",
       "        7.14285714,  7.34693878,  7.55102041,  7.75510204,  7.95918367,\n",
       "        8.16326531,  8.36734694,  8.57142857,  8.7755102 ,  8.97959184,\n",
       "        9.18367347,  9.3877551 ,  9.59183673,  9.79591837, 10.        ])"
      ]
     },
     "execution_count": 55,
     "metadata": {},
     "output_type": "execute_result"
    }
   ],
   "source": [
    "np.linspace(0,10,50) #it will display  the all values inbetween the 0,10(any given range)"
   ]
  },
  {
   "cell_type": "code",
   "execution_count": 56,
   "id": "79f415dd",
   "metadata": {},
   "outputs": [],
   "source": [
    "arr = np.array([1,2,3,4,5,6,7,8,9])"
   ]
  },
  {
   "cell_type": "code",
   "execution_count": 57,
   "id": "e35aa173",
   "metadata": {},
   "outputs": [],
   "source": [
    "#using copy function and broadcasting\n",
    "arr[3:] =100 #in this case the 100(any given values) was replace the in the given indexing"
   ]
  },
  {
   "cell_type": "code",
   "execution_count": 61,
   "id": "c174f2e2",
   "metadata": {},
   "outputs": [
    {
     "data": {
      "text/plain": [
       "array([  1,   2,   3, 500, 500, 500, 500, 500, 500])"
      ]
     },
     "execution_count": 61,
     "metadata": {},
     "output_type": "execute_result"
    }
   ],
   "source": [
    "arr"
   ]
  },
  {
   "cell_type": "code",
   "execution_count": 62,
   "id": "444029be",
   "metadata": {},
   "outputs": [],
   "source": [
    "#reference type\n",
    "arr1 = arr # if we denote this = operators to like this, then if you can do any action in the any section (arr or arr1) it will affect the both sections\n",
    "arr1[3:] =500 #this will update the values as in arr and arr1 also"
   ]
  },
  {
   "cell_type": "code",
   "execution_count": 63,
   "id": "fd9a4cb6",
   "metadata": {},
   "outputs": [
    {
     "name": "stdout",
     "output_type": "stream",
     "text": [
      "[  1   2   3 500 500 500 500 500 500]\n",
      "[  1   2   3 500 500 500 500 500 500]\n"
     ]
    }
   ],
   "source": [
    "print(arr)\n",
    "print(arr1)"
   ]
  },
  {
   "cell_type": "code",
   "execution_count": 64,
   "id": "0ba736d9",
   "metadata": {},
   "outputs": [],
   "source": [
    "arr1=arr.copy() #arr was copied and assigned in the arr1"
   ]
  },
  {
   "cell_type": "code",
   "execution_count": 65,
   "id": "0ffaf39b",
   "metadata": {},
   "outputs": [
    {
     "name": "stdout",
     "output_type": "stream",
     "text": [
      "[  1   2   3 500 500 500 500 500 500]\n",
      "[   1    2    3 1000 1000 1000 1000 1000 1000]\n"
     ]
    }
   ],
   "source": [
    "print(arr)\n",
    "arr1[3:] =1000 # it will change the all values as 1000 from the indexing 3 to end in arr1\n",
    "print(arr1)"
   ]
  },
  {
   "cell_type": "code",
   "execution_count": 66,
   "id": "305b3a0f",
   "metadata": {},
   "outputs": [
    {
     "name": "stdout",
     "output_type": "stream",
     "text": [
      "[   2    4    6 1000 1000 1000 1000 1000 1000]\n",
      "[  0.5   1.    1.5 250.  250.  250.  250.  250.  250. ]\n",
      "[1 0 1 0 0 0 0 0 0]\n",
      "[ -1   0   1 498 498 498 498 498 498]\n",
      "[  3   4   5 502 502 502 502 502 502]\n"
     ]
    }
   ],
   "source": [
    "print(arr*2) #multiple by 2 for all elements in the array\n",
    "print(arr/2) #divide by 2 for all elements in the array\n",
    "print(arr%2) #modulo by 2 for all elements in the array\n",
    "print(arr-2) #subract by 2 print(arr-2) #subract by 2 \n",
    "print(arr+2) #add by 2 print(arr-2) #subract by 2 "
   ]
  },
  {
   "cell_type": "code",
   "execution_count": 67,
   "id": "2d69c0d0",
   "metadata": {},
   "outputs": [
    {
     "data": {
      "text/plain": [
       "array([ True,  True,  True, False, False, False, False, False, False])"
      ]
     },
     "execution_count": 67,
     "metadata": {},
     "output_type": "execute_result"
    }
   ],
   "source": [
    "## some conditions very useful in exploratory data analysis\n",
    "arr<300 # if we do this it will get the boolean result from the array"
   ]
  },
  {
   "cell_type": "code",
   "execution_count": 70,
   "id": "0a3c25f1",
   "metadata": {},
   "outputs": [
    {
     "data": {
      "text/plain": [
       "array([  1,   2,   3, 500, 500, 500, 500, 500, 500])"
      ]
     },
     "execution_count": 70,
     "metadata": {},
     "output_type": "execute_result"
    }
   ],
   "source": [
    "## some conditions very useful in exploratory data analysis\n",
    "\n",
    "val = 600\n",
    "arr[arr<val] # it will get the result which the values are lessthan val(which is given) in the array"
   ]
  },
  {
   "cell_type": "code",
   "execution_count": 72,
   "id": "c54c32c1",
   "metadata": {},
   "outputs": [
    {
     "data": {
      "text/plain": [
       "array([[60, 35, 69],\n",
       "       [89, 91, 58]])"
      ]
     },
     "execution_count": 72,
     "metadata": {},
     "output_type": "execute_result"
    }
   ],
   "source": [
    "#creating the array using randint #it will create the random array from the given range and the given size\n",
    "array = np.random.randint(1,100,(2,3))\n",
    "array"
   ]
  },
  {
   "cell_type": "code",
   "execution_count": 73,
   "id": "ed44af29",
   "metadata": {},
   "outputs": [
    {
     "data": {
      "text/plain": [
       "array([1., 1., 1., 1.])"
      ]
     },
     "execution_count": 73,
     "metadata": {},
     "output_type": "execute_result"
    }
   ],
   "source": [
    "np.ones(4) #this will create the arr(with value 1)as the given no of times"
   ]
  },
  {
   "cell_type": "code",
   "execution_count": 74,
   "id": "3449b061",
   "metadata": {},
   "outputs": [
    {
     "data": {
      "text/plain": [
       "array([[1, 1, 1],\n",
       "       [1, 1, 1]])"
      ]
     },
     "execution_count": 74,
     "metadata": {},
     "output_type": "execute_result"
    }
   ],
   "source": [
    "#create an array with the given no of rows with given no of columns.\n",
    "np.ones((2,3),dtype = int) #dtype = array dimention type"
   ]
  },
  {
   "cell_type": "code",
   "execution_count": 78,
   "id": "80716828",
   "metadata": {},
   "outputs": [
    {
     "data": {
      "text/plain": [
       "array([[0.67216878, 0.71170014, 0.68239025],\n",
       "       [0.39393695, 0.18100652, 0.77080309],\n",
       "       [0.80171535, 0.24319323, 0.74029967]])"
      ]
     },
     "execution_count": 78,
     "metadata": {},
     "output_type": "execute_result"
    }
   ],
   "source": [
    "#Random Distribution .Random samples from a unifrom distribution\n",
    "np.random.rand(3,3) #(no of rows,no of columns)"
   ]
  },
  {
   "cell_type": "code",
   "execution_count": 79,
   "id": "9ecf8ff7",
   "metadata": {},
   "outputs": [],
   "source": [
    "arr_ex=np.random.randn(4,4) #using standard normal distribution"
   ]
  },
  {
   "cell_type": "code",
   "execution_count": 81,
   "id": "6612a3e1",
   "metadata": {},
   "outputs": [
    {
     "data": {
      "text/plain": [
       "array([[ 0.62691157,  0.1137014 , -0.85825686, -0.53995252],\n",
       "       [ 0.18446825, -1.09178913, -0.82183198, -1.03838582],\n",
       "       [-1.90832061, -1.48340374, -0.14722463, -0.37661803],\n",
       "       [-0.76488708, -0.07155042, -1.68616512, -1.31637525]])"
      ]
     },
     "execution_count": 81,
     "metadata": {},
     "output_type": "execute_result"
    }
   ],
   "source": [
    "arr_ex"
   ]
  },
  {
   "cell_type": "code",
   "execution_count": 84,
   "id": "eb01f44d",
   "metadata": {},
   "outputs": [],
   "source": [
    "import seaborn as sns\n",
    "import pandas as pd"
   ]
  },
  {
   "cell_type": "code",
   "execution_count": 85,
   "id": "6ce12c63",
   "metadata": {},
   "outputs": [
    {
     "name": "stderr",
     "output_type": "stream",
     "text": [
      "c:\\users\\elcot\\appdata\\local\\programs\\python\\python39\\lib\\site-packages\\seaborn\\distributions.py:2619: FutureWarning: `distplot` is a deprecated function and will be removed in a future version. Please adapt your code to use either `displot` (a figure-level function with similar flexibility) or `histplot` (an axes-level function for histograms).\n",
      "  warnings.warn(msg, FutureWarning)\n"
     ]
    },
    {
     "data": {
      "text/plain": [
       "<AxesSubplot:ylabel='Density'>"
      ]
     },
     "execution_count": 85,
     "metadata": {},
     "output_type": "execute_result"
    },
    {
     "data": {
      "image/png": "[encoded data removed]",
      "text/plain": [
       "<Figure size 432x288 with 1 Axes>"
      ]
     },
     "metadata": {
      "needs_background": "light"
     },
     "output_type": "display_data"
    }
   ],
   "source": [
    "sns.distplot(pd.DataFrame(arr_ex.reshape(8,2))) # using standard normal distribution"
   ]
  },
  {
   "cell_type": "code",
   "execution_count": 88,
   "id": "ca82cf40",
   "metadata": {},
   "outputs": [
    {
     "data": {
      "text/plain": [
       "array([[40, 10],\n",
       "       [60, 86],\n",
       "       [84, 57],\n",
       "       [14, 55]])"
      ]
     },
     "execution_count": 88,
     "metadata": {},
     "output_type": "execute_result"
    }
   ],
   "source": [
    "np.random.randint(1,100,8).reshape(4,2)"
   ]
  },
  {
   "cell_type": "code",
   "execution_count": null,
   "id": "326ece01",
   "metadata": {},
   "outputs": [],
   "source": []
  }
 ],
 "metadata": {
  "kernelspec": {
   "display_name": "Python 3 (ipykernel)",
   "language": "python",
   "name": "python3"
  },
  "language_info": {
   "codemirror_mode": {
    "name": "ipython",
    "version": 3
   },
   "file_extension": ".py",
   "mimetype": "text/x-python",
   "name": "python",
   "nbconvert_exporter": "python",
   "pygments_lexer": "ipython3",
   "version": "3.9.6"
  }
 },
 "nbformat": 4,
 "nbformat_minor": 5
}
